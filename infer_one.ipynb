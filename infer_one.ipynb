{
 "cells": [
  {
   "cell_type": "code",
   "execution_count": 39,
   "id": "initial_id",
   "metadata": {
    "collapsed": true
   },
   "outputs": [],
   "source": [
    "from io import BytesIO\n",
    "from urllib.request import urlopen\n",
    "import librosa\n",
    "from transformers import AutoProcessor\n",
    "from myqwen2audio import Qwen2AudioForConditionalGeneration"
   ]
  },
  {
   "cell_type": "code",
   "execution_count": 41,
   "id": "d04a0e2c5a7a8e75",
   "metadata": {},
   "outputs": [
    {
     "name": "stderr",
     "output_type": "stream",
     "text": [
      "You are using a model of type qwen2_audio to instantiate a model of type myqwen2audio. This is not supported for all configurations of models and can yield errors.\n",
      "Loading checkpoint shards: 100%|██████████| 5/5 [00:02<00:00,  2.27it/s]\n",
      "It is strongly recommended to pass the `sampling_rate` argument to `WhisperFeatureExtractor()`. Failing to do so can result in silent errors that might be hard to debug.\n"
     ]
    },
    {
     "data": {
      "text/plain": [
       "'“离开了，”他说，“十年前。多好啊！一切都曾经是如此的。但是我自己'"
      ]
     },
     "execution_count": 41,
     "metadata": {},
     "output_type": "execute_result"
    }
   ],
   "source": [
    "model = Qwen2AudioForConditionalGeneration.from_pretrained(\"Qwen/Qwen2-Audio-7B\", trust_remote_code=True)\n",
    "processor = AutoProcessor.from_pretrained(\"Qwen/Qwen2-Audio-7B\", trust_remote_code=True)\n",
    "\n",
    "prompt = \"<|audio_bos|><|AUDIO|><|audio_eos|>Detect the language and translate the speech into Mandarin: <|en|>\"\n",
    "url = \"/mnt/workspace/renyi/datasets/LongSpeech/wavs/000006.wav\"\n",
    "audio, sr = librosa.load(url, sr=processor.feature_extractor.sampling_rate)\n",
    "inputs = processor(text=prompt, audio=audio, return_tensors=\"pt\")\n",
    "\n",
    "generated_ids = model.generate(**inputs)\n",
    "generated_ids = generated_ids[:, inputs.input_ids.size(1):]\n",
    "response = processor.batch_decode(generated_ids, skip_special_tokens=True, clean_up_tokenization_spaces=False)[0]\n",
    "response"
   ]
  }
 ],
 "metadata": {
  "kernelspec": {
   "display_name": "Python 3",
   "language": "python",
   "name": "python3"
  },
  "language_info": {
   "codemirror_mode": {
    "name": "ipython",
    "version": 2
   },
   "file_extension": ".py",
   "mimetype": "text/x-python",
   "name": "python",
   "nbconvert_exporter": "python",
   "pygments_lexer": "ipython2",
   "version": "2.7.6"
  }
 },
 "nbformat": 4,
 "nbformat_minor": 5
}
