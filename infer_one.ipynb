{
 "cells": [
  {
   "cell_type": "code",
   "execution_count": 1,
   "id": "initial_id",
   "metadata": {
    "collapsed": true
   },
   "outputs": [
    {
     "name": "stderr",
     "output_type": "stream",
     "text": [
      "/mnt/workspace/renyi/miniconda3/envs/qwen/lib/python3.10/site-packages/tqdm/auto.py:21: TqdmWarning: IProgress not found. Please update jupyter and ipywidgets. See https://ipywidgets.readthedocs.io/en/stable/user_install.html\n",
      "  from .autonotebook import tqdm as notebook_tqdm\n"
     ]
    }
   ],
   "source": [
    "from io import BytesIO\n",
    "from urllib.request import urlopen\n",
    "import librosa\n",
    "from transformers import AutoProcessor\n",
    "from myqwen2audio import Qwen2AudioForConditionalGeneration"
   ]
  },
  {
   "cell_type": "code",
   "execution_count": 2,
   "id": "d04a0e2c5a7a8e75",
   "metadata": {},
   "outputs": [
    {
     "name": "stderr",
     "output_type": "stream",
     "text": [
      "You are using a model of type qwen2_audio to instantiate a model of type myqwen2audio. This is not supported for all configurations of models and can yield errors.\n",
      "Loading checkpoint shards: 100%|██████████| 5/5 [00:03<00:00,  1.39it/s]\n",
      "It is strongly recommended to pass the `sampling_rate` argument to `WhisperFeatureExtractor()`. Failing to do so can result in silent errors that might be hard to debug.\n"
     ]
    },
    {
     "ename": "ValueError",
     "evalue": "Input length of input_ids is 764, but `max_length` is set to 256. This can lead to unexpected behavior. You should consider increasing `max_length` or, better yet, setting `max_new_tokens`.",
     "output_type": "error",
     "traceback": [
      "\u001b[0;31m---------------------------------------------------------------------------\u001b[0m",
      "\u001b[0;31mValueError\u001b[0m                                Traceback (most recent call last)",
      "Cell \u001b[0;32mIn[2], line 9\u001b[0m\n\u001b[1;32m      6\u001b[0m audio, sr \u001b[39m=\u001b[39m librosa\u001b[39m.\u001b[39mload(url, sr\u001b[39m=\u001b[39mprocessor\u001b[39m.\u001b[39mfeature_extractor\u001b[39m.\u001b[39msampling_rate)\n\u001b[1;32m      7\u001b[0m inputs \u001b[39m=\u001b[39m processor(text\u001b[39m=\u001b[39mprompt, audio\u001b[39m=\u001b[39maudio, return_tensors\u001b[39m=\u001b[39m\u001b[39m\"\u001b[39m\u001b[39mpt\u001b[39m\u001b[39m\"\u001b[39m)\n\u001b[0;32m----> 9\u001b[0m generated_ids \u001b[39m=\u001b[39m model\u001b[39m.\u001b[39;49mgenerate(\u001b[39m*\u001b[39;49m\u001b[39m*\u001b[39;49minputs, max_length\u001b[39m=\u001b[39;49m\u001b[39m256\u001b[39;49m)\n\u001b[1;32m     10\u001b[0m generated_ids \u001b[39m=\u001b[39m generated_ids[:, inputs\u001b[39m.\u001b[39minput_ids\u001b[39m.\u001b[39msize(\u001b[39m1\u001b[39m):]\n\u001b[1;32m     11\u001b[0m response \u001b[39m=\u001b[39m processor\u001b[39m.\u001b[39mbatch_decode(generated_ids, skip_special_tokens\u001b[39m=\u001b[39m\u001b[39mTrue\u001b[39;00m, clean_up_tokenization_spaces\u001b[39m=\u001b[39m\u001b[39mFalse\u001b[39;00m)[\u001b[39m0\u001b[39m]\n",
      "File \u001b[0;32m/mnt/workspace/renyi/miniconda3/envs/qwen/lib/python3.10/site-packages/torch/utils/_contextlib.py:116\u001b[0m, in \u001b[0;36mcontext_decorator.<locals>.decorate_context\u001b[0;34m(*args, **kwargs)\u001b[0m\n\u001b[1;32m    113\u001b[0m \u001b[39m@functools\u001b[39m\u001b[39m.\u001b[39mwraps(func)\n\u001b[1;32m    114\u001b[0m \u001b[39mdef\u001b[39;00m\u001b[39m \u001b[39m\u001b[39mdecorate_context\u001b[39m(\u001b[39m*\u001b[39margs, \u001b[39m*\u001b[39m\u001b[39m*\u001b[39mkwargs):\n\u001b[1;32m    115\u001b[0m     \u001b[39mwith\u001b[39;00m ctx_factory():\n\u001b[0;32m--> 116\u001b[0m         \u001b[39mreturn\u001b[39;00m func(\u001b[39m*\u001b[39;49margs, \u001b[39m*\u001b[39;49m\u001b[39m*\u001b[39;49mkwargs)\n",
      "File \u001b[0;32m/mnt/workspace/renyi/miniconda3/envs/qwen/lib/python3.10/site-packages/transformers/generation/utils.py:2479\u001b[0m, in \u001b[0;36mGenerationMixin.generate\u001b[0;34m(self, inputs, generation_config, logits_processor, stopping_criteria, prefix_allowed_tokens_fn, synced_gpus, assistant_model, streamer, negative_prompt_ids, negative_prompt_attention_mask, use_model_defaults, custom_generate, **kwargs)\u001b[0m\n\u001b[1;32m   2476\u001b[0m \u001b[39mif\u001b[39;00m \u001b[39mself\u001b[39m\u001b[39m.\u001b[39m_supports_logits_to_keep() \u001b[39mand\u001b[39;00m \u001b[39m\"\u001b[39m\u001b[39mlogits_to_keep\u001b[39m\u001b[39m\"\u001b[39m \u001b[39mnot\u001b[39;00m \u001b[39min\u001b[39;00m model_kwargs:\n\u001b[1;32m   2477\u001b[0m     model_kwargs[\u001b[39m\"\u001b[39m\u001b[39mlogits_to_keep\u001b[39m\u001b[39m\"\u001b[39m] \u001b[39m=\u001b[39m \u001b[39m1\u001b[39m\n\u001b[0;32m-> 2479\u001b[0m \u001b[39mself\u001b[39;49m\u001b[39m.\u001b[39;49m_validate_generated_length(generation_config, input_ids_length, has_default_max_length)\n\u001b[1;32m   2481\u001b[0m \u001b[39m# 7. Prepare the cache.\u001b[39;00m\n\u001b[1;32m   2482\u001b[0m \u001b[39m# - `model_kwargs` may be updated in place with a cache as defined by the parameters in `generation_config`.\u001b[39;00m\n\u001b[1;32m   2483\u001b[0m \u001b[39m# - different models have a different cache name expected by the model (default = \"past_key_values\")\u001b[39;00m\n\u001b[1;32m   2484\u001b[0m \u001b[39m# - `max_length`, prepared above, is used to determine the maximum cache length\u001b[39;00m\n\u001b[1;32m   2485\u001b[0m max_cache_length \u001b[39m=\u001b[39m generation_config\u001b[39m.\u001b[39mmax_length \u001b[39m-\u001b[39m \u001b[39m1\u001b[39m\n",
      "File \u001b[0;32m/mnt/workspace/renyi/miniconda3/envs/qwen/lib/python3.10/site-packages/transformers/generation/utils.py:1624\u001b[0m, in \u001b[0;36mGenerationMixin._validate_generated_length\u001b[0;34m(self, generation_config, input_ids_length, has_default_max_length)\u001b[0m\n\u001b[1;32m   1622\u001b[0m \u001b[39mif\u001b[39;00m input_ids_length \u001b[39m>\u001b[39m\u001b[39m=\u001b[39m generation_config\u001b[39m.\u001b[39mmax_length:\n\u001b[1;32m   1623\u001b[0m     input_ids_string \u001b[39m=\u001b[39m \u001b[39m\"\u001b[39m\u001b[39mdecoder_input_ids\u001b[39m\u001b[39m\"\u001b[39m \u001b[39mif\u001b[39;00m \u001b[39mself\u001b[39m\u001b[39m.\u001b[39mconfig\u001b[39m.\u001b[39mis_encoder_decoder \u001b[39melse\u001b[39;00m \u001b[39m\"\u001b[39m\u001b[39minput_ids\u001b[39m\u001b[39m\"\u001b[39m\n\u001b[0;32m-> 1624\u001b[0m     \u001b[39mraise\u001b[39;00m \u001b[39mValueError\u001b[39;00m(\n\u001b[1;32m   1625\u001b[0m         \u001b[39mf\u001b[39m\u001b[39m\"\u001b[39m\u001b[39mInput length of \u001b[39m\u001b[39m{\u001b[39;00minput_ids_string\u001b[39m}\u001b[39;00m\u001b[39m is \u001b[39m\u001b[39m{\u001b[39;00minput_ids_length\u001b[39m}\u001b[39;00m\u001b[39m, but `max_length` is set to\u001b[39m\u001b[39m\"\u001b[39m\n\u001b[1;32m   1626\u001b[0m         \u001b[39mf\u001b[39m\u001b[39m\"\u001b[39m\u001b[39m \u001b[39m\u001b[39m{\u001b[39;00mgeneration_config\u001b[39m.\u001b[39mmax_length\u001b[39m}\u001b[39;00m\u001b[39m. This can lead to unexpected behavior. You should consider\u001b[39m\u001b[39m\"\u001b[39m\n\u001b[1;32m   1627\u001b[0m         \u001b[39m\"\u001b[39m\u001b[39m increasing `max_length` or, better yet, setting `max_new_tokens`.\u001b[39m\u001b[39m\"\u001b[39m\n\u001b[1;32m   1628\u001b[0m     )\n\u001b[1;32m   1630\u001b[0m \u001b[39m# 2. Min length warnings due to unfeasible parameter combinations\u001b[39;00m\n\u001b[1;32m   1631\u001b[0m min_length_error_suffix \u001b[39m=\u001b[39m (\n\u001b[1;32m   1632\u001b[0m     \u001b[39m\"\u001b[39m\u001b[39m Generation will stop at the defined maximum length. You should decrease the minimum length and/or \u001b[39m\u001b[39m\"\u001b[39m\n\u001b[1;32m   1633\u001b[0m     \u001b[39m\"\u001b[39m\u001b[39mincrease the maximum length.\u001b[39m\u001b[39m\"\u001b[39m\n\u001b[1;32m   1634\u001b[0m )\n",
      "\u001b[0;31mValueError\u001b[0m: Input length of input_ids is 764, but `max_length` is set to 256. This can lead to unexpected behavior. You should consider increasing `max_length` or, better yet, setting `max_new_tokens`."
     ]
    }
   ],
   "source": [
    "model = Qwen2AudioForConditionalGeneration.from_pretrained(\"Qwen/Qwen2-Audio-7B\", trust_remote_code=True)\n",
    "processor = AutoProcessor.from_pretrained(\"Qwen/Qwen2-Audio-7B\", trust_remote_code=True)\n",
    "\n",
    "prompt = \"<|audio_bos|><|AUDIO|><|audio_eos|>Detect the language and translate the speech into Mandarin: <|en|>\"\n",
    "url = \"/mnt/workspace/renyi/datasets/LongSpeech/wavs/000006.wav\"\n",
    "audio, sr = librosa.load(url, sr=processor.feature_extractor.sampling_rate)\n",
    "inputs = processor(text=prompt, audio=audio, return_tensors=\"pt\")\n",
    "\n",
    "generated_ids = model.generate(**inputs, max_length=256)\n",
    "generated_ids = generated_ids[:, inputs.input_ids.size(1):]\n",
    "response = processor.batch_decode(generated_ids, skip_special_tokens=True, clean_up_tokenization_spaces=False)[0]\n",
    "response"
   ]
  }
 ],
 "metadata": {
  "kernelspec": {
   "display_name": "Python 3",
   "language": "python",
   "name": "python3"
  },
  "language_info": {
   "codemirror_mode": {
    "name": "ipython",
    "version": 2
   },
   "file_extension": ".py",
   "mimetype": "text/x-python",
   "name": "python",
   "nbconvert_exporter": "python",
   "pygments_lexer": "ipython2",
   "version": "2.7.6"
  }
 },
 "nbformat": 4,
 "nbformat_minor": 5
}
